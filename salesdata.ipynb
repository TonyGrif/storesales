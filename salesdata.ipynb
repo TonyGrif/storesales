{
 "cells": [
  {
   "cell_type": "code",
   "execution_count": 3,
   "id": "1d11be77-0715-4236-9058-a745a36ec0d8",
   "metadata": {},
   "outputs": [],
   "source": [
    "import pandas as pd\n",
    "from pathlib import Path"
   ]
  },
  {
   "cell_type": "code",
   "execution_count": 2,
   "id": "ccb44f0b-578a-410d-b09d-e7c28148e1fe",
   "metadata": {},
   "outputs": [],
   "source": [
    "train = \"dataset/train.csv.zip\""
   ]
  },
  {
   "cell_type": "code",
   "execution_count": 5,
   "id": "8987928a-bee8-4c42-9712-653f1cea36aa",
   "metadata": {},
   "outputs": [],
   "source": [
    "if Path(train).suffix == \".zip\":\n",
    "    import zipfile\n",
    "    with zipfile.ZipFile(train, \"r\") as zip_ref:\n",
    "        zip_ref.extractall(\"unzipped\")\n",
    "        train = \"unzipped/train.csv\""
   ]
  },
  {
   "cell_type": "markdown",
   "id": "51b531a0-2485-4cc6-b766-76fac713de5f",
   "metadata": {},
   "source": [
    "# EDA"
   ]
  },
  {
   "cell_type": "code",
   "execution_count": 6,
   "id": "e3aea36e-6b81-4d72-8f1f-727ce10250e7",
   "metadata": {},
   "outputs": [],
   "source": [
    "df = pd.read_csv(train)"
   ]
  },
  {
   "cell_type": "code",
   "execution_count": 11,
   "id": "2fc8d2a2-b89b-450b-8d75-0df035ab4f4f",
   "metadata": {},
   "outputs": [
    {
     "name": "stdout",
     "output_type": "stream",
     "text": [
      "(3000888, 6) \n",
      "\n",
      "<class 'pandas.core.frame.DataFrame'>\n",
      "RangeIndex: 3000888 entries, 0 to 3000887\n",
      "Data columns (total 6 columns):\n",
      " #   Column       Dtype  \n",
      "---  ------       -----  \n",
      " 0   id           int64  \n",
      " 1   date         object \n",
      " 2   store_nbr    int64  \n",
      " 3   family       object \n",
      " 4   sales        float64\n",
      " 5   onpromotion  int64  \n",
      "dtypes: float64(1), int64(3), object(2)\n",
      "memory usage: 137.4+ MB\n",
      "None \n",
      "\n"
     ]
    }
   ],
   "source": [
    "print(df.shape,\"\\n\")\n",
    "print(df.info(),\"\\n\")"
   ]
  },
  {
   "cell_type": "code",
   "execution_count": 14,
   "id": "71abe58e-c727-46ea-b989-81718885cebf",
   "metadata": {},
   "outputs": [
    {
     "data": {
      "text/plain": [
       "1252476   2014-12-05\n",
       "465396    2013-09-19\n",
       "1700033   2015-08-15\n",
       "2091849   2016-03-22\n",
       "901077    2014-05-22\n",
       "577870    2013-11-21\n",
       "1462912   2015-04-03\n",
       "1537042   2015-05-15\n",
       "244196    2013-05-18\n",
       "605823    2013-12-06\n",
       "Name: date, dtype: datetime64[ns]"
      ]
     },
     "execution_count": 14,
     "metadata": {},
     "output_type": "execute_result"
    }
   ],
   "source": [
    "df[\"date\"] = pd.to_datetime(df[\"date\"], format=\"%Y-%m-%d\")\n",
    "df[\"date\"].sample(10)"
   ]
  },
  {
   "cell_type": "code",
   "execution_count": 20,
   "id": "cae23111-403b-40f9-9bae-68374b1ee947",
   "metadata": {},
   "outputs": [
    {
     "name": "stdout",
     "output_type": "stream",
     "text": [
      "year\n",
      "2013    648648\n",
      "2014    648648\n",
      "2015    648648\n",
      "2016    650430\n",
      "2017    404514\n",
      "dtype: int64 \n",
      "\n",
      "month\n",
      "1     276210\n",
      "2     251262\n",
      "3     276210\n",
      "4     267300\n",
      "5     276210\n",
      "6     267300\n",
      "7     276210\n",
      "8     247698\n",
      "9     213840\n",
      "10    220968\n",
      "11    213840\n",
      "12    213840\n",
      "dtype: int64 \n",
      "\n",
      "day\n",
      "1     99792\n",
      "2     99792\n",
      "3     99792\n",
      "4     99792\n",
      "5     99792\n",
      "6     99792\n",
      "7     99792\n",
      "8     99792\n",
      "9     99792\n",
      "10    99792\n",
      "11    99792\n",
      "12    99792\n",
      "13    99792\n",
      "14    99792\n",
      "15    99792\n",
      "16    98010\n",
      "17    98010\n",
      "18    98010\n",
      "19    98010\n",
      "20    98010\n",
      "21    98010\n",
      "22    98010\n",
      "23    98010\n",
      "24    98010\n",
      "25    90882\n",
      "26    98010\n",
      "27    98010\n",
      "28    98010\n",
      "29    90882\n",
      "30    89100\n",
      "31    57024\n",
      "dtype: int64 \n",
      "\n"
     ]
    }
   ],
   "source": [
    "df[\"year\"] = pd.DatetimeIndex(df[\"date\"]).year\n",
    "df[\"month\"] = pd.DatetimeIndex(df[\"date\"]).month\n",
    "df[\"day\"] = pd.DatetimeIndex(df[\"date\"]).day\n",
    "\n",
    "print(df.groupby(\"year\").size(),\"\\n\")\n",
    "print(df.groupby(\"month\").size(),\"\\n\")\n",
    "print(df.groupby(\"day\").size(),\"\\n\")"
   ]
  },
  {
   "cell_type": "code",
   "execution_count": null,
   "id": "74940643-00b1-4fb0-ac0e-7853fcbdcf7a",
   "metadata": {},
   "outputs": [],
   "source": []
  }
 ],
 "metadata": {
  "kernelspec": {
   "display_name": "Python 3 (ipykernel)",
   "language": "python",
   "name": "python3"
  },
  "language_info": {
   "codemirror_mode": {
    "name": "ipython",
    "version": 3
   },
   "file_extension": ".py",
   "mimetype": "text/x-python",
   "name": "python",
   "nbconvert_exporter": "python",
   "pygments_lexer": "ipython3",
   "version": "3.12.10"
  }
 },
 "nbformat": 4,
 "nbformat_minor": 5
}
